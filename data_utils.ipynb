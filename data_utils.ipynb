{
 "cells": [
  {
   "cell_type": "code",
   "execution_count": 1,
   "metadata": {},
   "outputs": [],
   "source": [
    "import cv2\n",
    "from imageio import imread,imwrite\n",
    "import os\n",
    "import numpy as np\n",
    "from matplotlib import pyplot as plt\n",
    "import xml.sax\n",
    "from tqdm import tqdm_notebook as tqdm"
   ]
  },
  {
   "cell_type": "markdown",
   "metadata": {},
   "source": [
    "### Creating Parser "
   ]
  },
  {
   "cell_type": "markdown",
   "metadata": {},
   "source": [
    "Parser parses xml files rescaling input to (for h,w =608)), output should be normalized"
   ]
  },
  {
   "cell_type": "code",
   "execution_count": 31,
   "metadata": {},
   "outputs": [],
   "source": [
    "#normalizing is done here\n",
    "_GLOBAL_HEIGHT=720\n",
    "_GLOBAL_WIDTH=1280\n",
    "class LotHandler(xml.sax.ContentHandler):\n",
    "    def __init__(self):\n",
    "        self.all=[] # [occupied,cx,cy,w,h]\n",
    "        self.all4=[] # [cx,cy,w,h]]\n",
    "    #call when an element starts\n",
    "    def startElement(self,tag,attributes):\n",
    "        self.CurrentData=tag\n",
    "        if (tag == 'space'):\n",
    "#             print(attributes.__getitem__('occupied'))\n",
    "            key=attributes.getNames()[-1]\n",
    "            self.all.append(attributes.__getitem__(key))\n",
    "        if(tag == 'center'):\n",
    "            x=attributes['x']\n",
    "            y=attributes['y']\n",
    "            x=float(x)/_GLOBAL_WIDTH*608\n",
    "            y=float(y)/_GLOBAL_HEIGHT*608\n",
    "            x=str(x)\n",
    "            y=str(y)\n",
    "            \n",
    "            self.all.append(x)\n",
    "            self.all.append(y)\n",
    "            self.all4.append(x)\n",
    "            self.all4.append(y)\n",
    "        if(tag == 'size'):\n",
    "            w=attributes['w']\n",
    "            h=attributes['h']\n",
    "            w=float(w)/_GLOBAL_WIDTH*608\n",
    "            h=float(h)/_GLOBAL_HEIGHT*608\n",
    "            w=str(w)\n",
    "            h=str(h)\n",
    "            self.all.append(w)\n",
    "            self.all.append(h)\n",
    "            self.all4.append(w)\n",
    "            self.all4.append(h)\n",
    "    def getData(self,as_int=False):\n",
    "        \"\"\"\n",
    "        self.all = [id,cx,cy,w,h]\n",
    "        self.all4 = [cx,cy,w,h]\n",
    "        \n",
    "        \"\"\"\n",
    "        \n",
    "        if as_int:\n",
    "            return list(map(lambda x : int(float(x)),self.all)),list(map(lambda x : int(float(x)),self.all4))\n",
    "        return self.all,self.all4\n",
    "    "
   ]
  },
  {
   "cell_type": "code",
   "execution_count": 15,
   "metadata": {},
   "outputs": [
    {
     "name": "stdout",
     "output_type": "stream",
     "text": [
      "id 67\n"
     ]
    }
   ],
   "source": [
    "parser=xml.sax.make_parser()\n",
    "parser.setFeature(xml.sax.handler.feature_namespaces, 0)\n",
    "Handler = LotHandler()\n",
    "parser.setContentHandler( Handler )\n",
    "doc_path='1.xml'\n",
    "parser.parse(doc_path)"
   ]
  },
  {
   "cell_type": "code",
   "execution_count": null,
   "metadata": {},
   "outputs": [],
   "source": [
    "details,params=Handler.getData()"
   ]
  },
  {
   "cell_type": "code",
   "execution_count": null,
   "metadata": {},
   "outputs": [],
   "source": [
    "text_file_name='./1.txt'\n",
    "f=open(text_file_name,'w+')\n",
    "for i,x in enumerate(details):\n",
    "    if (i+1)%5 == 0:\n",
    "        f.write(x)\n",
    "        f.write('\\n')\n",
    "    else:\n",
    "        f.write(x)\n",
    "        f.write(\" \")\n",
    "f.close()"
   ]
  },
  {
   "cell_type": "markdown",
   "metadata": {},
   "source": [
    "## Plotting\n"
   ]
  },
  {
   "cell_type": "code",
   "execution_count": null,
   "metadata": {},
   "outputs": [],
   "source": [
    "_,params=Handler.getData(as_int=True)"
   ]
  },
  {
   "cell_type": "code",
   "execution_count": 3,
   "metadata": {},
   "outputs": [],
   "source": [
    "def centreToCorner(centre_params):\n",
    "    \"\"\"\n",
    "    Params : cx,cy,w,h\n",
    "    return : lx,ly,rx,ry\n",
    "    \"\"\"\n",
    "    cx,cy,w,h=centre_params\n",
    "    lx=cx-w/2\n",
    "    ly=cy+h/2\n",
    "    rx=cx+w/2\n",
    "    ry=cy-h/2\n",
    "    corner=[lx,ly,rx,ry]\n",
    "    corner=list(map(int,corner))\n",
    "    return corner\n",
    "\n",
    "def plotLots(image,params_list):\n",
    "    \"\"\"\n",
    "    params_list [cx,cy,w,h]\n",
    "    \"\"\"\n",
    "    img=image.copy()\n",
    "    for i in range(len(params_list)):\n",
    "        if(i%4==0):\n",
    "            cx=params_list[i + 0]\n",
    "            cy=params_list[i + 1]\n",
    "            w=params_list[i + 2]\n",
    "            h=params_list[i + 3]\n",
    "            params=[cx,cy,w,h]\n",
    "            lx,ly,rx,ry=centreToCorner(params)\n",
    "            cv2.rectangle(img,(lx,ly),(rx,ry),(0,255,0),2)\n",
    "    return img"
   ]
  },
  {
   "cell_type": "code",
   "execution_count": null,
   "metadata": {},
   "outputs": [],
   "source": [
    "img=imread('./1.jpg')"
   ]
  },
  {
   "cell_type": "code",
   "execution_count": null,
   "metadata": {},
   "outputs": [],
   "source": [
    "plt.imshow(img)"
   ]
  },
  {
   "cell_type": "code",
   "execution_count": null,
   "metadata": {},
   "outputs": [],
   "source": [
    "img=cv2.resize(img,(608,608))\n",
    "plt.imshow(plotLots(img,params))"
   ]
  },
  {
   "cell_type": "markdown",
   "metadata": {},
   "source": [
    "# EVERTHING SHOULD BE SCALED TO 608\n"
   ]
  },
  {
   "cell_type": "markdown",
   "metadata": {},
   "source": [
    "## Creating Annotations.txt"
   ]
  },
  {
   "cell_type": "code",
   "execution_count": 24,
   "metadata": {},
   "outputs": [
    {
     "name": "stdout",
     "output_type": "stream",
     "text": [
      "(1, 2, 3)\n",
      "(4, 5, 6)\n"
     ]
    }
   ],
   "source": [
    "a=[1,2,3,4,5,6]\n",
    "for x in zip( *[iter(a)]*3) :\n",
    "    print(x)"
   ]
  },
  {
   "cell_type": "code",
   "execution_count": 36,
   "metadata": {},
   "outputs": [
    {
     "data": {
      "application/vnd.jupyter.widget-view+json": {
       "model_id": "73725ba706204f899b74fe44e90bb1cd",
       "version_major": 2,
       "version_minor": 0
      },
      "text/plain": [
       "HBox(children=(IntProgress(value=0, max=24832), HTML(value='')))"
      ]
     },
     "metadata": {},
     "output_type": "display_data"
    },
    {
     "name": "stdout",
     "output_type": "stream",
     "text": [
      "Completed\n",
      "Perncentage of boxes without parking info 3.5457966889405275 \n"
     ]
    }
   ],
   "source": [
    "image_width=608\n",
    "image_height=608\n",
    "# image list\n",
    "images_dir=os.path.abspath('./data/image_annotations/')\n",
    "doc_dir=os.path.abspath('./data/image_annotations/')\n",
    "target_dir=os.path.abspath('./data/image_annotations_txt/')\n",
    "error_list=[]\n",
    "images_list=[]\n",
    "_boxesWithoutStat=0\n",
    "_totalBoxes=0\n",
    "## read annotations from xml and outputs normalized list\n",
    "for file in tqdm(os.listdir(images_dir)):\n",
    "    filename,extension=file.split('.')\n",
    "    \n",
    "    if(extension=='jpg'):\n",
    "        doc_path=doc_dir+'/'+filename+'.xml'\n",
    "        parser=xml.sax.make_parser()\n",
    "        parser.setFeature(xml.sax.handler.feature_namespaces, 0)\n",
    "        Handler = LotHandler()\n",
    "        parser.setContentHandler( Handler )\n",
    "#         try:\n",
    "        parser.parse(doc_path)\n",
    "        details,params=Handler.getData(as_int=False)\n",
    "        \n",
    "        # some ids does not have occupancy info removing thos\n",
    "        details_mod=[]\n",
    "        for batch in zip(*[iter(details)]*5):\n",
    "            if(int(batch[0])>1):\n",
    "                _boxesWithoutStat+=1\n",
    "                _totalBoxes+=1\n",
    "            else:\n",
    "                details_mod.extend(batch)\n",
    "                _totalBoxes+=1\n",
    "        details=details_mod\n",
    "        #writing to file\n",
    "        textfile=target_dir+'/'+filename+'.txt'\n",
    "        f=open(textfile,'w+')\n",
    "        for i,x in enumerate(details):\n",
    "            if(i%5)!=0:\n",
    "                x=float(x)/608 ## normalzing\n",
    "                x=str(x)\n",
    "            if (i+1)%5 == 0:\n",
    "                f.write(x)\n",
    "                f.write('\\n')\n",
    "            else:\n",
    "                f.write(x)\n",
    "                f.write(\" \")\n",
    "        f.close()\n",
    "#         #writing resized image\n",
    "#         image_file_path=target_dir+'/'+filename+'.jpg'\n",
    "#         img=imread(images_dir+'/'+filename+'.jpg')\n",
    "#         img=cv2.resize(img,(608,608))\n",
    "#         imwrite(image_file_path,img)\n",
    "#         except:\n",
    "#             print(f\"Error at {filename}\")\n",
    "#             error_list.append(filename)\n",
    "print(\"Completed\")\n",
    "print(f\"Perncentage of boxes without parking info {_boxesWithoutStat*100/_totalBoxes} \")"
   ]
  },
  {
   "cell_type": "code",
   "execution_count": 33,
   "metadata": {},
   "outputs": [
    {
     "data": {
      "text/plain": [
       "200"
      ]
     },
     "execution_count": 33,
     "metadata": {},
     "output_type": "execute_result"
    }
   ],
   "source": [
    "len(details)"
   ]
  },
  {
   "cell_type": "markdown",
   "metadata": {},
   "source": [
    "## Sanity check"
   ]
  },
  {
   "cell_type": "code",
   "execution_count": null,
   "metadata": {},
   "outputs": [],
   "source": [
    "def centreToCorner(centre_params):\n",
    "    \"\"\"\n",
    "    Params : cx,cy,w,h\n",
    "    return : lx,ly,rx,ry\n",
    "    \"\"\"\n",
    "    cx,cy,w,h=centre_params\n",
    "    lx=cx-w/2\n",
    "    ly=cy+h/2\n",
    "    rx=cx+w/2\n",
    "    ry=cy-h/2\n",
    "    corner=[lx,ly,rx,ry]\n",
    "    corner=list(map(int,corner))\n",
    "    return corner\n",
    "\n",
    "def plotLots(image,params_list):\n",
    "    \"\"\"\n",
    "    params_list [cx,cy,w,h]\n",
    "    \n",
    "    expects denormalized input\n",
    "    \"\"\"\n",
    "    img=image.copy()\n",
    "    for i in range(len(params_list)):\n",
    "        if(i%4==0):\n",
    "            cx=params_list[i + 0]\n",
    "            cy=params_list[i + 1]\n",
    "            w=params_list[i + 2]\n",
    "            h=params_list[i + 3]\n",
    "            params=[cx,cy,w,h]\n",
    "            lx,ly,rx,ry=centreToCorner(params)\n",
    "            cv2.rectangle(img,(lx,ly),(rx,ry),(0,255,0),2)\n",
    "#             cv2.rectangle(img,(rx,ry),(lx,ly),(0,255,0),2)\n",
    "            \n",
    "    return img"
   ]
  },
  {
   "cell_type": "code",
   "execution_count": null,
   "metadata": {},
   "outputs": [],
   "source": [
    "images_dir=os.path.abspath('./data/image_annotations_txt/')\n",
    "images_list=[]\n",
    "for file in tqdm(os.listdir(images_dir)):\n",
    "    filename,extension=file.split('.')\n",
    "    if(extension=='jpg'):\n",
    "        doc_path=images_dir+'/'+filename+'.jpg'\n",
    "        images_list.append(doc_path)"
   ]
  },
  {
   "cell_type": "code",
   "execution_count": null,
   "metadata": {},
   "outputs": [],
   "source": [
    "img=imread(images_list[0])"
   ]
  },
  {
   "cell_type": "code",
   "execution_count": null,
   "metadata": {},
   "outputs": [],
   "source": [
    "file_path='/media/aghinsa/DATA/workspace/ParkingLot/data/image_annotations_txt/2012-09-11_15_16_58.txt'"
   ]
  },
  {
   "cell_type": "code",
   "execution_count": null,
   "metadata": {},
   "outputs": [],
   "source": [
    "box_params=[]\n",
    "with open(file_path) as f:\n",
    "    for line in f.readlines():\n",
    "        line=line.rstrip(\"\\n\")\n",
    "        line=line.split(\" \")[1:]\n",
    "        box_params.extend(list(map(lambda x :(float(x)),line)))"
   ]
  },
  {
   "cell_type": "code",
   "execution_count": null,
   "metadata": {},
   "outputs": [],
   "source": [
    "box_params=list(map(lambda x:int(x*608),box_params))"
   ]
  },
  {
   "cell_type": "code",
   "execution_count": null,
   "metadata": {},
   "outputs": [],
   "source": [
    "box_params[:4]"
   ]
  },
  {
   "cell_type": "code",
   "execution_count": null,
   "metadata": {},
   "outputs": [],
   "source": [
    "plt.imshow(img)"
   ]
  },
  {
   "cell_type": "code",
   "execution_count": null,
   "metadata": {},
   "outputs": [],
   "source": [
    "plotted=plotLots(img,box_params_denorm)"
   ]
  },
  {
   "cell_type": "code",
   "execution_count": null,
   "metadata": {},
   "outputs": [],
   "source": [
    "plt.imshow(plotted)"
   ]
  },
  {
   "cell_type": "markdown",
   "metadata": {},
   "source": [
    "###  Train Test Split\n"
   ]
  },
  {
   "cell_type": "code",
   "execution_count": null,
   "metadata": {},
   "outputs": [],
   "source": [
    "from sklearn.model_selection import train_test_split"
   ]
  },
  {
   "cell_type": "code",
   "execution_count": null,
   "metadata": {},
   "outputs": [],
   "source": [
    "images_dir=os.path.abspath('./data/image_annotations_txt/')\n",
    "images_list=[]\n",
    "for file in tqdm(os.listdir(images_dir)):\n",
    "    filename,extension=file.split('.')\n",
    "    if(extension=='jpg'):\n",
    "        doc_path=images_dir+'/'+filename+'.jpg'\n",
    "        images_list.append(doc_path)"
   ]
  },
  {
   "cell_type": "code",
   "execution_count": null,
   "metadata": {},
   "outputs": [],
   "source": [
    "train_list,test_list=train_test_split(images_list,test_size=0.2,shuffle=True)"
   ]
  },
  {
   "cell_type": "code",
   "execution_count": null,
   "metadata": {},
   "outputs": [],
   "source": [
    "f=open('parkLot_train.txt','w+')\n",
    "for file in train_list:\n",
    "    f.write(file)\n",
    "    f.write(\"\\n\")\n",
    "f.close()\n",
    "\n",
    "f=open('parkLot_test.txt','w+')\n",
    "for file in test_list:\n",
    "    f.write(file)\n",
    "    f.write(\"\\n\")\n",
    "f.close()"
   ]
  },
  {
   "cell_type": "code",
   "execution_count": null,
   "metadata": {},
   "outputs": [],
   "source": []
  }
 ],
 "metadata": {
  "kernelspec": {
   "display_name": "Python 3",
   "language": "python",
   "name": "python3"
  },
  "language_info": {
   "codemirror_mode": {
    "name": "ipython",
    "version": 3
   },
   "file_extension": ".py",
   "mimetype": "text/x-python",
   "name": "python",
   "nbconvert_exporter": "python",
   "pygments_lexer": "ipython3",
   "version": "3.6.8"
  }
 },
 "nbformat": 4,
 "nbformat_minor": 2
}
